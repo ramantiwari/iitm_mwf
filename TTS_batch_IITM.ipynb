{
 "cells": [
  {
   "cell_type": "code",
   "execution_count": 5,
   "id": "222c851c-08e2-44c7-a7fe-364a05b95b24",
   "metadata": {},
   "outputs": [],
   "source": [
    "# why we prefer python?\n",
    "# 1) readable \n",
    "# 2) easly understandable\n",
    "# 3) dynamic memory allocation\n",
    "# 4) efficient data connectivity\n",
    "# 5) hugh library\n",
    "# 6) interpreter based language\n",
    "# 7) case sensitive language\n",
    "# 8) oops concepts\n",
    "\n",
    "# what is python?\n",
    "# python is an interpreter and high level language."
   ]
  },
  {
   "cell_type": "code",
   "execution_count": 6,
   "id": "239c4784-fe3d-4fc0-a239-cf925e71904f",
   "metadata": {},
   "outputs": [],
   "source": [
    "# p  ')\n",
    "# sdlkghlads'\n",
    "# print('students')"
   ]
  },
  {
   "cell_type": "code",
   "execution_count": 7,
   "id": "369a150a-6589-405f-b70b-07cdaa3d655f",
   "metadata": {},
   "outputs": [],
   "source": [
    "# what is interpreter?\n",
    "# ans:- runs the code line by line.\n"
   ]
  },
  {
   "cell_type": "code",
   "execution_count": 8,
   "id": "4d11c874-92eb-4436-bcd5-02365414214e",
   "metadata": {},
   "outputs": [],
   "source": [
    "# data type of python\n",
    "# User define and Built in data type\n",
    "# built in :-\n",
    "# number:- int,float,comlex\n",
    "# text :- string\n",
    "# list\n",
    "# tuple\n",
    "# set\n",
    "# dictionary\n",
    "# boolean"
   ]
  },
  {
   "cell_type": "code",
   "execution_count": 16,
   "id": "09a416d1-35ef-4169-90c2-4e750985dcce",
   "metadata": {},
   "outputs": [],
   "source": [
    "# variable\n",
    "# variable contains the data.\n",
    "# cannot starts with int:- 2a=20 , adsaf23=20 correct\n",
    "# space not allowed:- raman tiwari=20\n",
    "# special char:- @#$%^ EXCEPT (_) \n",
    "# reserved keywords:- for ,def\n",
    "\n"
   ]
  },
  {
   "cell_type": "code",
   "execution_count": 13,
   "id": "16a8412a-278c-4bd2-b0a1-6287daa53fd2",
   "metadata": {},
   "outputs": [
    {
     "name": "stdout",
     "output_type": "stream",
     "text": [
      "20\n"
     ]
    }
   ],
   "source": [
    "a=10\n",
    "A=20\n",
    "print(A)\n",
    "# case sensitive language"
   ]
  },
  {
   "cell_type": "code",
   "execution_count": 14,
   "id": "f5b127e6-3df5-45f6-b240-c2526d1db9c3",
   "metadata": {},
   "outputs": [
    {
     "ename": "TypeError",
     "evalue": "'a' is an invalid keyword argument for print()",
     "output_type": "error",
     "traceback": [
      "\u001b[1;31m---------------------------------------------------------------------------\u001b[0m",
      "\u001b[1;31mTypeError\u001b[0m                                 Traceback (most recent call last)",
      "Cell \u001b[1;32mIn[14], line 3\u001b[0m\n\u001b[0;32m      1\u001b[0m \u001b[38;5;66;03m# a,b=20,30\u001b[39;00m\n\u001b[0;32m      2\u001b[0m \u001b[38;5;66;03m# print(b)\u001b[39;00m\n\u001b[1;32m----> 3\u001b[0m \u001b[38;5;28;43mprint\u001b[39;49m\u001b[43m(\u001b[49m\u001b[43ma\u001b[49m\u001b[38;5;241;43m=\u001b[39;49m\u001b[38;5;241;43m20\u001b[39;49m\u001b[43m,\u001b[49m\u001b[43mb\u001b[49m\u001b[38;5;241;43m=\u001b[39;49m\u001b[38;5;241;43m30\u001b[39;49m\u001b[43m)\u001b[49m\n",
      "\u001b[1;31mTypeError\u001b[0m: 'a' is an invalid keyword argument for print()"
     ]
    }
   ],
   "source": [
    "# a,b=20,30\n",
    "# print(b)\n",
    "print(a=20,b=30)"
   ]
  },
  {
   "cell_type": "code",
   "execution_count": 17,
   "id": "074197b3-8c0c-4efa-8403-3f9dd585be00",
   "metadata": {},
   "outputs": [
    {
     "name": "stdout",
     "output_type": "stream",
     "text": [
      "\n",
      "Here is a list of the Python keywords.  Enter any keyword to get more help.\n",
      "\n",
      "False               class               from                or\n",
      "None                continue            global              pass\n",
      "True                def                 if                  raise\n",
      "and                 del                 import              return\n",
      "as                  elif                in                  try\n",
      "assert              else                is                  while\n",
      "async               except              lambda              with\n",
      "await               finally             nonlocal            yield\n",
      "break               for                 not                 \n",
      "\n"
     ]
    }
   ],
   "source": [
    "help('keywords')\n",
    "Class=20"
   ]
  },
  {
   "cell_type": "code",
   "execution_count": 18,
   "id": "004d4fa7-8fcb-46be-a946-533506f0907d",
   "metadata": {},
   "outputs": [],
   "source": [
    "# a=b=c=d=40\n",
    "# print(a)"
   ]
  },
  {
   "cell_type": "code",
   "execution_count": 21,
   "id": "ddac2fb6-cbde-4c5b-b64b-9c190d549266",
   "metadata": {},
   "outputs": [
    {
     "name": "stdout",
     "output_type": "stream",
     "text": [
      "a\n"
     ]
    },
    {
     "ename": "TypeError",
     "evalue": "cannot unpack non-iterable int object",
     "output_type": "error",
     "traceback": [
      "\u001b[1;31m---------------------------------------------------------------------------\u001b[0m",
      "\u001b[1;31mTypeError\u001b[0m                                 Traceback (most recent call last)",
      "Cell \u001b[1;32mIn[21], line 3\u001b[0m\n\u001b[0;32m      1\u001b[0m a,b,c\u001b[38;5;241m=\u001b[39m\u001b[38;5;124m'\u001b[39m\u001b[38;5;124mram\u001b[39m\u001b[38;5;124m'\u001b[39m\n\u001b[0;32m      2\u001b[0m \u001b[38;5;28mprint\u001b[39m(b)\n\u001b[1;32m----> 3\u001b[0m e,d,g\u001b[38;5;241m=\u001b[39m\u001b[38;5;241m123\u001b[39m\n\u001b[0;32m      4\u001b[0m \u001b[38;5;28mprint\u001b[39m(d)\n",
      "\u001b[1;31mTypeError\u001b[0m: cannot unpack non-iterable int object"
     ]
    }
   ],
   "source": [
    " "
   ]
  },
  {
   "cell_type": "code",
   "execution_count": 22,
   "id": "e9574b13-2805-461e-b814-0bc53af54097",
   "metadata": {},
   "outputs": [],
   "source": [
    "# errors \n",
    "# value error\n",
    "# indentation error\n",
    "# name error \n",
    "# type error \n",
    "# syntax error\n"
   ]
  },
  {
   "cell_type": "code",
   "execution_count": 23,
   "id": "21c91d38-c3d1-4545-8860-782ca61385f9",
   "metadata": {},
   "outputs": [
    {
     "ename": "SyntaxError",
     "evalue": "invalid decimal literal (2810002180.py, line 1)",
     "output_type": "error",
     "traceback": [
      "\u001b[1;36m  Cell \u001b[1;32mIn[23], line 1\u001b[1;36m\u001b[0m\n\u001b[1;33m    8a=20\u001b[0m\n\u001b[1;37m    ^\u001b[0m\n\u001b[1;31mSyntaxError\u001b[0m\u001b[1;31m:\u001b[0m invalid decimal literal\n"
     ]
    }
   ],
   "source": [
    "8a=20"
   ]
  },
  {
   "cell_type": "code",
   "execution_count": 24,
   "id": "8a6a56b0-4a69-48de-a93d-761d7061a192",
   "metadata": {},
   "outputs": [
    {
     "ename": "ValueError",
     "evalue": "not enough values to unpack (expected 2, got 1)",
     "output_type": "error",
     "traceback": [
      "\u001b[1;31m---------------------------------------------------------------------------\u001b[0m",
      "\u001b[1;31mValueError\u001b[0m                                Traceback (most recent call last)",
      "Cell \u001b[1;32mIn[24], line 2\u001b[0m\n\u001b[0;32m      1\u001b[0m \u001b[38;5;66;03m# value error\u001b[39;00m\n\u001b[1;32m----> 2\u001b[0m a,b\u001b[38;5;241m=\u001b[39m\u001b[38;5;241m10\u001b[39m,\n",
      "\u001b[1;31mValueError\u001b[0m: not enough values to unpack (expected 2, got 1)"
     ]
    }
   ],
   "source": [
    "# value error\n",
    "a,b=10,"
   ]
  },
  {
   "cell_type": "code",
   "execution_count": 25,
   "id": "67f90aed-3040-4459-a627-0f5a3cc38c97",
   "metadata": {},
   "outputs": [
    {
     "ename": "IndentationError",
     "evalue": "unexpected indent (145822741.py, line 2)",
     "output_type": "error",
     "traceback": [
      "\u001b[1;36m  Cell \u001b[1;32mIn[25], line 2\u001b[1;36m\u001b[0m\n\u001b[1;33m    print(a)\u001b[0m\n\u001b[1;37m    ^\u001b[0m\n\u001b[1;31mIndentationError\u001b[0m\u001b[1;31m:\u001b[0m unexpected indent\n"
     ]
    }
   ],
   "source": [
    "a=20\n",
    "  print(a)"
   ]
  },
  {
   "cell_type": "code",
   "execution_count": 30,
   "id": "70772589-4d27-4ad9-a1ef-2e1391fab47b",
   "metadata": {},
   "outputs": [
    {
     "ename": "NameError",
     "evalue": "name 'u' is not defined",
     "output_type": "error",
     "traceback": [
      "\u001b[1;31m---------------------------------------------------------------------------\u001b[0m",
      "\u001b[1;31mNameError\u001b[0m                                 Traceback (most recent call last)",
      "Cell \u001b[1;32mIn[30], line 1\u001b[0m\n\u001b[1;32m----> 1\u001b[0m \u001b[38;5;28mprint\u001b[39m(\u001b[43mu\u001b[49m)\n",
      "\u001b[1;31mNameError\u001b[0m: name 'u' is not defined"
     ]
    }
   ],
   "source": [
    "print(u)"
   ]
  },
  {
   "cell_type": "code",
   "execution_count": 34,
   "id": "d9dca8e9-2390-47fd-be2f-ed54fe6373bc",
   "metadata": {},
   "outputs": [
    {
     "name": "stdout",
     "output_type": "stream",
     "text": [
      "20j\n",
      "<class 'complex'>\n",
      "2164664793168\n"
     ]
    }
   ],
   "source": [
    "# number:- int,float,complex\n",
    "a=20j\n",
    "print(a)\n",
    "print(type(a))\n",
    "print(id(a))\n"
   ]
  },
  {
   "cell_type": "code",
   "execution_count": 42,
   "id": "907532cd-9a3b-4da6-9ea0-9c4420684885",
   "metadata": {},
   "outputs": [
    {
     "name": "stdout",
     "output_type": "stream",
     "text": [
      "0\n",
      "False\n",
      "False\n"
     ]
    }
   ],
   "source": [
    "# operator\n",
    "# arithmetic:- +,-,*,**,/,//,%\n",
    "print(10%2)\n",
    "# 10+20=30\n",
    "# assignment\n",
    "# a=20\n",
    "# print(a)\n",
    "# logical\n",
    "# and ,or , not\n",
    "# t and t=t\n",
    "# t and f=f\n",
    "# f and t=f\n",
    "# f and f=f\n",
    "\n",
    "# t or t =t\n",
    "# t or f =t\n",
    "# f or t =t\n",
    "# f or f =f\n",
    "# comparison\n",
    "# <,>,>=,<=,!=,==\n",
    "print(100!=100)\n",
    "# membership\n",
    "a='python'\n",
    "print('r' in a)"
   ]
  },
  {
   "cell_type": "code",
   "execution_count": 43,
   "id": "ddbe0f2d-9788-4a9c-baf8-96ca46717ecb",
   "metadata": {},
   "outputs": [
    {
     "name": "stdout",
     "output_type": "stream",
     "text": [
      "raman\n",
      "10\n",
      "None\n"
     ]
    }
   ],
   "source": [
    "a,b=10,print('raman')\n",
    "print(a)\n",
    "print(b)"
   ]
  },
  {
   "cell_type": "code",
   "execution_count": 44,
   "id": "a36bb51a-2a43-4633-afdb-fe4ede42c9d7",
   "metadata": {},
   "outputs": [
    {
     "name": "stdout",
     "output_type": "stream",
     "text": [
      "20\n"
     ]
    },
    {
     "data": {
      "text/plain": [
       "40"
      ]
     },
     "execution_count": 44,
     "metadata": {},
     "output_type": "execute_result"
    }
   ],
   "source": [
    "g=20\n",
    "h=40\n",
    "h\n",
    "print(g)\n",
    "h"
   ]
  },
  {
   "cell_type": "code",
   "execution_count": 48,
   "id": "c7b45cb6-eee5-4310-94ff-aba8077d404a",
   "metadata": {},
   "outputs": [
    {
     "data": {
      "text/plain": [
       "20"
      ]
     },
     "execution_count": 48,
     "metadata": {},
     "output_type": "execute_result"
    }
   ],
   "source": [
    "# w=20\n",
    "# t=50\n",
    "# w\n",
    "# t"
   ]
  },
  {
   "cell_type": "code",
   "execution_count": 51,
   "id": "113358e0-5c57-475a-861f-747d05e2f988",
   "metadata": {},
   "outputs": [
    {
     "data": {
      "text/plain": [
       "'30'"
      ]
     },
     "execution_count": 51,
     "metadata": {},
     "output_type": "execute_result"
    }
   ],
   "source": [
    "# u=20\n",
    "# u\n",
    "# '30'"
   ]
  },
  {
   "cell_type": "code",
   "execution_count": 53,
   "id": "7c67fe18-d825-45e0-a1c9-2c58cbf0ca28",
   "metadata": {},
   "outputs": [
    {
     "name": "stdout",
     "output_type": "stream",
     "text": [
      "False\n"
     ]
    }
   ],
   "source": [
    "print(100>200 and 400==400)"
   ]
  },
  {
   "cell_type": "code",
   "execution_count": 61,
   "id": "28b67ffd-45f8-4ff9-873a-45afba47bbda",
   "metadata": {},
   "outputs": [
    {
     "name": "stdout",
     "output_type": "stream",
     "text": [
      "1\n"
     ]
    }
   ],
   "source": [
    "print(0 or 1)"
   ]
  },
  {
   "cell_type": "code",
   "execution_count": 64,
   "id": "084fca90-f1de-44d5-b8cf-567cfff2d1f7",
   "metadata": {},
   "outputs": [
    {
     "name": "stdout",
     "output_type": "stream",
     "text": [
      "30\n"
     ]
    }
   ],
   "source": [
    "y=10 and 30\n",
    "print(y)"
   ]
  },
  {
   "cell_type": "code",
   "execution_count": 65,
   "id": "900f90f1-e01b-4777-a4dd-587b7ff69787",
   "metadata": {},
   "outputs": [
    {
     "name": "stdout",
     "output_type": "stream",
     "text": [
      "<class 'str'>\n",
      "<class 'str'>\n",
      "<class 'str'>\n"
     ]
    }
   ],
   "source": [
    "# string\n",
    "rt='raman'\n",
    "print(type(rt))\n",
    "ty=\"1234567\"\n",
    "print(type(ty))\n",
    "yt='''@#$%^&'''\n",
    "print(type(yt))"
   ]
  },
  {
   "cell_type": "code",
   "execution_count": 67,
   "id": "71607528-7287-492a-89bc-39e722bb6792",
   "metadata": {},
   "outputs": [],
   "source": [
    "er='''dslkjga;laksdgasdlkg\n",
    "glksadhglk;asdjg;lkjasdlkgjsadlk;\n",
    "kljgkhghkjhgk'''"
   ]
  },
  {
   "cell_type": "code",
   "execution_count": 71,
   "id": "0e4a17df-7f2b-4363-b8d8-4b77afcd1900",
   "metadata": {},
   "outputs": [
    {
     "name": "stdout",
     "output_type": "stream",
     "text": [
      "it's my birthday\n"
     ]
    }
   ],
   "source": [
    "i=\"it's my birthday\"\n",
    "print(i)"
   ]
  },
  {
   "cell_type": "code",
   "execution_count": 75,
   "id": "afadb4c7-6155-4036-ac01-d52d6d1986f5",
   "metadata": {},
   "outputs": [
    {
     "name": "stdout",
     "output_type": "stream",
     "text": [
      "y\n"
     ]
    }
   ],
   "source": [
    "d='python'\n",
    " # 012345\n",
    "# accessing the value from the string...\n",
    "print(d[1])"
   ]
  },
  {
   "cell_type": "code",
   "execution_count": 78,
   "id": "bcba4c65-b37e-4f50-bd17-8d5f1ffc2879",
   "metadata": {},
   "outputs": [
    {
     "name": "stdout",
     "output_type": "stream",
     "text": [
      "thon\n",
      "pn\n"
     ]
    }
   ],
   "source": [
    "# slicing\n",
    "d='python'\n",
    " # 012345\n",
    "# print(d[startpoint:endpoint:steppoint/skippoint])\n",
    "#          0          end of the string   1-no skipping\n",
    "print(d[2:6:1])\n",
    "print(d[0:6:5])"
   ]
  },
  {
   "cell_type": "code",
   "execution_count": 83,
   "id": "2fe7ea68-ca4f-4c8e-8bb4-7699f9fbfe21",
   "metadata": {},
   "outputs": [
    {
     "name": "stdout",
     "output_type": "stream",
     "text": [
      "otp\n"
     ]
    }
   ],
   "source": [
    "d='python'\n",
    "  #012345\n",
    "# -6-5-4-3-2-1\n",
    "# negative\n",
    "# print(d[::-1])\n",
    "# print(d[-1:-7:-5])\n",
    "print(d[-2:-7:-2])\n"
   ]
  },
  {
   "cell_type": "code",
   "execution_count": 89,
   "id": "2e284df9-0dd6-4b9c-a0c6-ea5c77590c99",
   "metadata": {},
   "outputs": [],
   "source": [
    "# python\n",
    "# pto,pn,yo,tn,np,oy,hp,nhy,hy,nt,po,tp\n",
    "# g='python'\n",
    "# print(g[2::3])"
   ]
  },
  {
   "cell_type": "code",
   "execution_count": 101,
   "id": "7ad1f8ac-f598-4cc1-a5f7-c5d2b442c58e",
   "metadata": {},
   "outputs": [
    {
     "name": "stdout",
     "output_type": "stream",
     "text": [
      "7\n"
     ]
    }
   ],
   "source": [
    "# strings methods\n",
    "# built in methods\n",
    "# dir('string')\n",
    "# upper \n",
    "a='python'\n",
    "# print(a.upper())\n",
    "# lower\n",
    "g='PYTHON'\n",
    "# print(g.lower())\n",
    "# replace\n",
    "a='python'\n",
    "# print(a.replace('p','t'))\n",
    "# index\n",
    "a='python'\n",
    "# print(a.index('u'))\n",
    "# find\n",
    "# print(a.find('u'))\n",
    "# count\n",
    "a='pythonnnnnnn'\n",
    "print(a.count('n'))"
   ]
  },
  {
   "cell_type": "code",
   "execution_count": 105,
   "id": "2bc9fa7e-a7c3-4adc-9b0c-7b3a5ac01e3c",
   "metadata": {},
   "outputs": [
    {
     "name": "stdout",
     "output_type": "stream",
     "text": [
      "13\n"
     ]
    }
   ],
   "source": [
    "k=\"ram    an\"\n",
    "print(len(k))"
   ]
  },
  {
   "cell_type": "code",
   "execution_count": 1,
   "id": "51d84d72-0c6b-4068-aa21-5ad7233e8c5e",
   "metadata": {},
   "outputs": [
    {
     "name": "stdout",
     "output_type": "stream",
     "text": [
      "2667489335776\n",
      "2667580709680\n"
     ]
    }
   ],
   "source": [
    "# mutable and immutable\n",
    "a='raman'\n",
    "print(id(a))\n",
    "a='rahul'\n",
    "print(id(a))"
   ]
  },
  {
   "cell_type": "code",
   "execution_count": 9,
   "id": "d561a06c-b107-4cc1-a3b5-aab732cf4f9d",
   "metadata": {},
   "outputs": [
    {
     "name": "stdout",
     "output_type": "stream",
     "text": [
      "krsna\n"
     ]
    }
   ],
   "source": [
    "a=[[],[[[],[[],[34,'ansrk']]]]]\n",
    "# krsna\n",
    "print(a[1][0][1][1][1][::-1])\n"
   ]
  },
  {
   "cell_type": "code",
   "execution_count": 10,
   "id": "1e31c2e0-fcf7-40ba-9077-e01315e8fb64",
   "metadata": {},
   "outputs": [
    {
     "name": "stdout",
     "output_type": "stream",
     "text": [
      "56\n"
     ]
    }
   ],
   "source": [
    "a=[[23,[[],[],[[[[],[],[[34,56,89]]]]]]]]\n",
    "#56\n",
    "print(a[0][1][2][0][0][2][0][1])"
   ]
  },
  {
   "cell_type": "code",
   "execution_count": 12,
   "id": "3af6d6cf-4c1b-4316-a4a7-2c88ab65115e",
   "metadata": {},
   "outputs": [
    {
     "name": "stdout",
     "output_type": "stream",
     "text": [
      "not good\n"
     ]
    }
   ],
   "source": [
    "if 100==176576400:\n",
    "    print('all good')\n",
    "elif 1100==100:\n",
    "    print('all nice')\n",
    "elif 100==10:\n",
    "    print('hi all')\n",
    "else:\n",
    "    print('not good')"
   ]
  },
  {
   "cell_type": "code",
   "execution_count": 13,
   "id": "882aa4e8-b637-4856-81de-45674cae486d",
   "metadata": {},
   "outputs": [
    {
     "name": "stdout",
     "output_type": "stream",
     "text": [
      "hi all\n",
      "time\n",
      "good\n"
     ]
    }
   ],
   "source": [
    "if 200<300:\n",
    "    print('hi all')\n",
    "    if 500!=500:\n",
    "        print('not')\n",
    "    elif 599>200:\n",
    "        print('time')\n",
    "        if 1234==234:\n",
    "            print('hi')\n",
    "        else:\n",
    "            print('good')\n",
    "    else:\n",
    "        print('class')\n",
    "elif 233==233:\n",
    "    if 890>89:\n",
    "        print('students')\n",
    "    else:\n",
    "        print('last')"
   ]
  },
  {
   "cell_type": "code",
   "execution_count": null,
   "id": "81da6e62-0bf1-4965-85c9-b2b49d9b97d9",
   "metadata": {},
   "outputs": [
    {
     "name": "stdout",
     "output_type": "stream",
     "text": [
      "hlo\n"
     ]
    }
   ],
   "source": [
    "if 200==200:\n",
    "    print('hlo')\n",
    "elif 500==500:\n",
    "    print('good')\n",
    "else:\n",
    "    print('nice')\n"
   ]
  },
  {
   "cell_type": "code",
   "execution_count": 7,
   "id": "63329612-1cb4-4886-8c00-926038ed3db8",
   "metadata": {},
   "outputs": [
    {
     "name": "stdout",
     "output_type": "stream",
     "text": [
      "\t\t\t\t\t\tWelcome to HDFC ATM\n"
     ]
    },
    {
     "name": "stdin",
     "output_type": "stream",
     "text": [
      "Insert your card card\n"
     ]
    },
    {
     "name": "stdout",
     "output_type": "stream",
     "text": [
      "welcome\n"
     ]
    },
    {
     "name": "stdin",
     "output_type": "stream",
     "text": [
      "Enter your pin 1234\n"
     ]
    },
    {
     "name": "stdout",
     "output_type": "stream",
     "text": [
      "\t\t\t\t\t\t\t1)check balance\n",
      "\t\t\t\t\t\t\t2)cash withdraw\n"
     ]
    },
    {
     "name": "stdin",
     "output_type": "stream",
     "text": [
      "select your option 2\n",
      "enter your amount 5000\n"
     ]
    },
    {
     "name": "stdout",
     "output_type": "stream",
     "text": [
      "your balance is :-  1229567\n"
     ]
    }
   ],
   "source": [
    "# real worl minor project \n",
    "# ATM\n",
    "print('\\t\\t\\t\\t\\t\\tWelcome to HDFC ATM')\n",
    "amount=1234567\n",
    "pin=1234\n",
    "if 'card'==input('Insert your card'):\n",
    "    print('welcome')\n",
    "    if pin==int(input('Enter your pin')):\n",
    "        print('\\t\\t\\t\\t\\t\\t\\t1)check balance\\n\\t\\t\\t\\t\\t\\t\\t2)cash withdraw')\n",
    "        option=int(input('select your option'))\n",
    "        if option==1:\n",
    "            print('your current balance is :- ',amount)\n",
    "        elif option==2:\n",
    "            user_amount=int(input('enter your amount'))\n",
    "            print('your balance is :- ',amount-user_amount)\n",
    "    else:\n",
    "        print('Wrong pin')\n",
    "else:\n",
    "    print('Invalid card')"
   ]
  },
  {
   "cell_type": "code",
   "execution_count": null,
   "id": "325759a1-d45b-421d-ade3-f1cd3a5ba8f3",
   "metadata": {},
   "outputs": [],
   "source": [
    "# a=int(input('enter your value'))"
   ]
  },
  {
   "cell_type": "code",
   "execution_count": 8,
   "id": "15140879-7537-4070-895d-b0949cfe5229",
   "metadata": {},
   "outputs": [
    {
     "name": "stdout",
     "output_type": "stream",
     "text": [
      "0\n",
      "1\n",
      "2\n",
      "3\n",
      "4\n",
      "5\n",
      "6\n",
      "7\n",
      "8\n",
      "9\n"
     ]
    }
   ],
   "source": [
    "# for loop\n",
    "a=10\n",
    "for i in range(a):\n",
    "    print(i)"
   ]
  },
  {
   "cell_type": "code",
   "execution_count": 14,
   "id": "a485ee84-c9f6-4c70-8c89-7e73134053df",
   "metadata": {},
   "outputs": [
    {
     "name": "stdout",
     "output_type": "stream",
     "text": [
      "2\n",
      "4\n",
      "6\n",
      "8\n",
      "10\n",
      "12\n",
      "14\n",
      "16\n",
      "18\n",
      "20\n"
     ]
    }
   ],
   "source": [
    "for i in range(2,21,2):\n",
    "    print(i)"
   ]
  },
  {
   "cell_type": "code",
   "execution_count": 15,
   "id": "1ac31aa8-042b-4779-b4d1-2419deb542b0",
   "metadata": {},
   "outputs": [
    {
     "name": "stdout",
     "output_type": "stream",
     "text": [
      "[2, 4, 6, 8, 10]\n",
      "[1, 3, 5, 7, 9]\n"
     ]
    }
   ],
   "source": [
    "a=[1,2,3,4,5,6,7,8,9,10]\n",
    "even=[]\n",
    "odd=[]\n",
    "for i in a:\n",
    "    if i%2==0:\n",
    "        even.append(i)\n",
    "    else:\n",
    "        odd.append(i)\n",
    "print(even)\n",
    "print(odd)\n",
    "        "
   ]
  },
  {
   "cell_type": "code",
   "execution_count": 16,
   "id": "166b705b-ce7c-4322-85bd-2efe54c27f5c",
   "metadata": {},
   "outputs": [],
   "source": [
    "g=[12,324,5321,12,4215,1234,122,33,4213]"
   ]
  },
  {
   "cell_type": "code",
   "execution_count": 18,
   "id": "12677fc4-5c9e-4ed7-b777-61a8ea27ac66",
   "metadata": {},
   "outputs": [
    {
     "name": "stdout",
     "output_type": "stream",
     "text": [
      "15\n"
     ]
    }
   ],
   "source": [
    "t=[1,2,3,4,5]\n",
    "b=0\n",
    "for i in t:\n",
    "    b+=i\n",
    "print(b)"
   ]
  },
  {
   "cell_type": "code",
   "execution_count": 19,
   "id": "38a6851a-26b9-4f80-adf6-1b7f8e2b2ed6",
   "metadata": {},
   "outputs": [
    {
     "ename": "SyntaxError",
     "evalue": "invalid syntax (2863965853.py, line 2)",
     "output_type": "error",
     "traceback": [
      "\u001b[1;36m  Cell \u001b[1;32mIn[19], line 2\u001b[1;36m\u001b[0m\n\u001b[1;33m    print(i)ab\u001b[0m\n\u001b[1;37m            ^\u001b[0m\n\u001b[1;31mSyntaxError\u001b[0m\u001b[1;31m:\u001b[0m invalid syntax\n"
     ]
    }
   ],
   "source": [
    "for i in 'abc':\n",
    "    print(i)ab\n",
    "    for k in 'def':\n",
    "        print(k)def\n",
    "        for j in 'ghi':\n",
    "            print(j)ghighighi"
   ]
  },
  {
   "cell_type": "code",
   "execution_count": 20,
   "id": "ea5951f7-fdd4-4cf7-a3dc-f31427c5eb40",
   "metadata": {},
   "outputs": [],
   "source": [
    "# abc\n",
    "# a:-1\n",
    "# b:-2\n",
    "# c:-3\n",
    "# back\n",
    "# b:-2\n",
    "# a:-1\n",
    "# c:-3\n",
    "# k:-11"
   ]
  },
  {
   "cell_type": "code",
   "execution_count": 1,
   "id": "dfdd5872-a7c5-4495-a259-996ddfab0fc1",
   "metadata": {},
   "outputs": [
    {
     "name": "stdin",
     "output_type": "stream",
     "text": [
      "enter your value back\n"
     ]
    },
    {
     "name": "stdout",
     "output_type": "stream",
     "text": [
      "2\n",
      "1\n",
      "3\n",
      "11\n"
     ]
    }
   ],
   "source": [
    "alpha=' abcdefghijklmnopqrstvwxyz'\n",
    "user_data=input('enter your value')\n",
    "for i in user_data:\n",
    "    if i in alpha:\n",
    "        store=alpha.index(i)\n",
    "        print(store)"
   ]
  },
  {
   "cell_type": "code",
   "execution_count": 12,
   "id": "17e218c7-0fbe-4962-a050-d9224fad52e9",
   "metadata": {},
   "outputs": [
    {
     "name": "stdout",
     "output_type": "stream",
     "text": [
      "23\n",
      "[[]]\n"
     ]
    }
   ],
   "source": [
    "a=['23',[[]]]\n",
    "for i in a:\n",
    "    store=i\n",
    "    print(store)\n",
    "   "
   ]
  },
  {
   "cell_type": "code",
   "execution_count": null,
   "id": "5be87949-a08b-4723-9181-d00104b646f0",
   "metadata": {},
   "outputs": [],
   "source": [
    "# def raman(): #parameter \n",
    "#     statements\n",
    "# raman()\n",
    "\n",
    "def students(a,b):\n",
    "    print(a+b)\n",
    "\n",
    "students(5,int(input()))"
   ]
  },
  {
   "cell_type": "code",
   "execution_count": null,
   "id": "9a361537-5403-4d20-8d50-3a4d7db3c132",
   "metadata": {},
   "outputs": [],
   "source": [
    "def geek():\n",
    "    print('hello class')\n",
    "    return 10\n",
    "\n",
    "geek()"
   ]
  },
  {
   "cell_type": "code",
   "execution_count": null,
   "id": "05d943ff-461e-488f-b065-bfe3dcaef6e9",
   "metadata": {},
   "outputs": [],
   "source": []
  }
 ],
 "metadata": {
  "kernelspec": {
   "display_name": "Python 3 (ipykernel)",
   "language": "python",
   "name": "python3"
  },
  "language_info": {
   "codemirror_mode": {
    "name": "ipython",
    "version": 3
   },
   "file_extension": ".py",
   "mimetype": "text/x-python",
   "name": "python",
   "nbconvert_exporter": "python",
   "pygments_lexer": "ipython3",
   "version": "3.12.3"
  }
 },
 "nbformat": 4,
 "nbformat_minor": 5
}
